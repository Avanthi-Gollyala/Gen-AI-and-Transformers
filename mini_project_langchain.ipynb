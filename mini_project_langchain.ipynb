{
  "nbformat": 4,
  "nbformat_minor": 0,
  "metadata": {
    "colab": {
      "provenance": [],
      "gpuType": "T4"
    },
    "kernelspec": {
      "name": "python3",
      "display_name": "Python 3"
    },
    "language_info": {
      "name": "python"
    },
    "accelerator": "GPU"
  },
  "cells": [
    {
      "cell_type": "code",
      "source": [
        "pip install google-generativeai langchain-community\n"
      ],
      "metadata": {
        "colab": {
          "base_uri": "https://localhost:8080/"
        },
        "id": "-SgUlM2lpQsK",
        "outputId": "6002cdf3-39c9-4747-a423-25c9831dec3f"
      },
      "execution_count": null,
      "outputs": [
        {
          "output_type": "stream",
          "name": "stdout",
          "text": [
            "Requirement already satisfied: google-generativeai in /usr/local/lib/python3.11/dist-packages (0.8.4)\n",
            "Collecting langchain-community\n",
            "  Downloading langchain_community-0.3.18-py3-none-any.whl.metadata (2.4 kB)\n",
            "Requirement already satisfied: google-ai-generativelanguage==0.6.15 in /usr/local/lib/python3.11/dist-packages (from google-generativeai) (0.6.15)\n",
            "Requirement already satisfied: google-api-core in /usr/local/lib/python3.11/dist-packages (from google-generativeai) (2.24.1)\n",
            "Requirement already satisfied: google-api-python-client in /usr/local/lib/python3.11/dist-packages (from google-generativeai) (2.160.0)\n",
            "Requirement already satisfied: google-auth>=2.15.0 in /usr/local/lib/python3.11/dist-packages (from google-generativeai) (2.27.0)\n",
            "Requirement already satisfied: protobuf in /usr/local/lib/python3.11/dist-packages (from google-generativeai) (4.25.6)\n",
            "Requirement already satisfied: pydantic in /usr/local/lib/python3.11/dist-packages (from google-generativeai) (2.10.6)\n",
            "Requirement already satisfied: tqdm in /usr/local/lib/python3.11/dist-packages (from google-generativeai) (4.67.1)\n",
            "Requirement already satisfied: typing-extensions in /usr/local/lib/python3.11/dist-packages (from google-generativeai) (4.12.2)\n",
            "Requirement already satisfied: proto-plus<2.0.0dev,>=1.22.3 in /usr/local/lib/python3.11/dist-packages (from google-ai-generativelanguage==0.6.15->google-generativeai) (1.26.0)\n",
            "Requirement already satisfied: langchain-core<1.0.0,>=0.3.37 in /usr/local/lib/python3.11/dist-packages (from langchain-community) (0.3.37)\n",
            "Requirement already satisfied: langchain<1.0.0,>=0.3.19 in /usr/local/lib/python3.11/dist-packages (from langchain-community) (0.3.19)\n",
            "Requirement already satisfied: SQLAlchemy<3,>=1.4 in /usr/local/lib/python3.11/dist-packages (from langchain-community) (2.0.38)\n",
            "Requirement already satisfied: requests<3,>=2 in /usr/local/lib/python3.11/dist-packages (from langchain-community) (2.32.3)\n",
            "Requirement already satisfied: PyYAML>=5.3 in /usr/local/lib/python3.11/dist-packages (from langchain-community) (6.0.2)\n",
            "Requirement already satisfied: aiohttp<4.0.0,>=3.8.3 in /usr/local/lib/python3.11/dist-packages (from langchain-community) (3.11.12)\n",
            "Requirement already satisfied: tenacity!=8.4.0,<10,>=8.1.0 in /usr/local/lib/python3.11/dist-packages (from langchain-community) (9.0.0)\n",
            "Collecting dataclasses-json<0.7,>=0.5.7 (from langchain-community)\n",
            "  Downloading dataclasses_json-0.6.7-py3-none-any.whl.metadata (25 kB)\n",
            "Collecting pydantic-settings<3.0.0,>=2.4.0 (from langchain-community)\n",
            "  Downloading pydantic_settings-2.8.0-py3-none-any.whl.metadata (3.5 kB)\n",
            "Requirement already satisfied: langsmith<0.4,>=0.1.125 in /usr/local/lib/python3.11/dist-packages (from langchain-community) (0.3.8)\n",
            "Collecting httpx-sse<1.0.0,>=0.4.0 (from langchain-community)\n",
            "  Downloading httpx_sse-0.4.0-py3-none-any.whl.metadata (9.0 kB)\n",
            "Requirement already satisfied: numpy<2,>=1.26.4 in /usr/local/lib/python3.11/dist-packages (from langchain-community) (1.26.4)\n",
            "Requirement already satisfied: aiohappyeyeballs>=2.3.0 in /usr/local/lib/python3.11/dist-packages (from aiohttp<4.0.0,>=3.8.3->langchain-community) (2.4.6)\n",
            "Requirement already satisfied: aiosignal>=1.1.2 in /usr/local/lib/python3.11/dist-packages (from aiohttp<4.0.0,>=3.8.3->langchain-community) (1.3.2)\n",
            "Requirement already satisfied: attrs>=17.3.0 in /usr/local/lib/python3.11/dist-packages (from aiohttp<4.0.0,>=3.8.3->langchain-community) (25.1.0)\n",
            "Requirement already satisfied: frozenlist>=1.1.1 in /usr/local/lib/python3.11/dist-packages (from aiohttp<4.0.0,>=3.8.3->langchain-community) (1.5.0)\n",
            "Requirement already satisfied: multidict<7.0,>=4.5 in /usr/local/lib/python3.11/dist-packages (from aiohttp<4.0.0,>=3.8.3->langchain-community) (6.1.0)\n",
            "Requirement already satisfied: propcache>=0.2.0 in /usr/local/lib/python3.11/dist-packages (from aiohttp<4.0.0,>=3.8.3->langchain-community) (0.2.1)\n",
            "Requirement already satisfied: yarl<2.0,>=1.17.0 in /usr/local/lib/python3.11/dist-packages (from aiohttp<4.0.0,>=3.8.3->langchain-community) (1.18.3)\n",
            "Collecting marshmallow<4.0.0,>=3.18.0 (from dataclasses-json<0.7,>=0.5.7->langchain-community)\n",
            "  Downloading marshmallow-3.26.1-py3-none-any.whl.metadata (7.3 kB)\n",
            "Collecting typing-inspect<1,>=0.4.0 (from dataclasses-json<0.7,>=0.5.7->langchain-community)\n",
            "  Downloading typing_inspect-0.9.0-py3-none-any.whl.metadata (1.5 kB)\n",
            "Requirement already satisfied: googleapis-common-protos<2.0.dev0,>=1.56.2 in /usr/local/lib/python3.11/dist-packages (from google-api-core->google-generativeai) (1.67.0)\n",
            "Requirement already satisfied: cachetools<6.0,>=2.0.0 in /usr/local/lib/python3.11/dist-packages (from google-auth>=2.15.0->google-generativeai) (5.5.1)\n",
            "Requirement already satisfied: pyasn1-modules>=0.2.1 in /usr/local/lib/python3.11/dist-packages (from google-auth>=2.15.0->google-generativeai) (0.4.1)\n",
            "Requirement already satisfied: rsa<5,>=3.1.4 in /usr/local/lib/python3.11/dist-packages (from google-auth>=2.15.0->google-generativeai) (4.9)\n",
            "Requirement already satisfied: langchain-text-splitters<1.0.0,>=0.3.6 in /usr/local/lib/python3.11/dist-packages (from langchain<1.0.0,>=0.3.19->langchain-community) (0.3.6)\n",
            "Requirement already satisfied: jsonpatch<2.0,>=1.33 in /usr/local/lib/python3.11/dist-packages (from langchain-core<1.0.0,>=0.3.37->langchain-community) (1.33)\n",
            "Requirement already satisfied: packaging<25,>=23.2 in /usr/local/lib/python3.11/dist-packages (from langchain-core<1.0.0,>=0.3.37->langchain-community) (24.2)\n",
            "Requirement already satisfied: httpx<1,>=0.23.0 in /usr/local/lib/python3.11/dist-packages (from langsmith<0.4,>=0.1.125->langchain-community) (0.28.1)\n",
            "Requirement already satisfied: orjson<4.0.0,>=3.9.14 in /usr/local/lib/python3.11/dist-packages (from langsmith<0.4,>=0.1.125->langchain-community) (3.10.15)\n",
            "Requirement already satisfied: requests-toolbelt<2.0.0,>=1.0.0 in /usr/local/lib/python3.11/dist-packages (from langsmith<0.4,>=0.1.125->langchain-community) (1.0.0)\n",
            "Requirement already satisfied: zstandard<0.24.0,>=0.23.0 in /usr/local/lib/python3.11/dist-packages (from langsmith<0.4,>=0.1.125->langchain-community) (0.23.0)\n",
            "Requirement already satisfied: annotated-types>=0.6.0 in /usr/local/lib/python3.11/dist-packages (from pydantic->google-generativeai) (0.7.0)\n",
            "Requirement already satisfied: pydantic-core==2.27.2 in /usr/local/lib/python3.11/dist-packages (from pydantic->google-generativeai) (2.27.2)\n",
            "Collecting python-dotenv>=0.21.0 (from pydantic-settings<3.0.0,>=2.4.0->langchain-community)\n",
            "  Downloading python_dotenv-1.0.1-py3-none-any.whl.metadata (23 kB)\n",
            "Requirement already satisfied: charset-normalizer<4,>=2 in /usr/local/lib/python3.11/dist-packages (from requests<3,>=2->langchain-community) (3.4.1)\n",
            "Requirement already satisfied: idna<4,>=2.5 in /usr/local/lib/python3.11/dist-packages (from requests<3,>=2->langchain-community) (3.10)\n",
            "Requirement already satisfied: urllib3<3,>=1.21.1 in /usr/local/lib/python3.11/dist-packages (from requests<3,>=2->langchain-community) (2.3.0)\n",
            "Requirement already satisfied: certifi>=2017.4.17 in /usr/local/lib/python3.11/dist-packages (from requests<3,>=2->langchain-community) (2025.1.31)\n",
            "Requirement already satisfied: greenlet!=0.4.17 in /usr/local/lib/python3.11/dist-packages (from SQLAlchemy<3,>=1.4->langchain-community) (3.1.1)\n",
            "Requirement already satisfied: httplib2<1.dev0,>=0.19.0 in /usr/local/lib/python3.11/dist-packages (from google-api-python-client->google-generativeai) (0.22.0)\n",
            "Requirement already satisfied: google-auth-httplib2<1.0.0,>=0.2.0 in /usr/local/lib/python3.11/dist-packages (from google-api-python-client->google-generativeai) (0.2.0)\n",
            "Requirement already satisfied: uritemplate<5,>=3.0.1 in /usr/local/lib/python3.11/dist-packages (from google-api-python-client->google-generativeai) (4.1.1)\n",
            "Requirement already satisfied: grpcio<2.0dev,>=1.33.2 in /usr/local/lib/python3.11/dist-packages (from google-api-core[grpc]!=2.0.*,!=2.1.*,!=2.10.*,!=2.2.*,!=2.3.*,!=2.4.*,!=2.5.*,!=2.6.*,!=2.7.*,!=2.8.*,!=2.9.*,<3.0.0dev,>=1.34.1->google-ai-generativelanguage==0.6.15->google-generativeai) (1.70.0)\n",
            "Requirement already satisfied: grpcio-status<2.0.dev0,>=1.33.2 in /usr/local/lib/python3.11/dist-packages (from google-api-core[grpc]!=2.0.*,!=2.1.*,!=2.10.*,!=2.2.*,!=2.3.*,!=2.4.*,!=2.5.*,!=2.6.*,!=2.7.*,!=2.8.*,!=2.9.*,<3.0.0dev,>=1.34.1->google-ai-generativelanguage==0.6.15->google-generativeai) (1.62.3)\n",
            "Requirement already satisfied: pyparsing!=3.0.0,!=3.0.1,!=3.0.2,!=3.0.3,<4,>=2.4.2 in /usr/local/lib/python3.11/dist-packages (from httplib2<1.dev0,>=0.19.0->google-api-python-client->google-generativeai) (3.2.1)\n",
            "Requirement already satisfied: anyio in /usr/local/lib/python3.11/dist-packages (from httpx<1,>=0.23.0->langsmith<0.4,>=0.1.125->langchain-community) (3.7.1)\n",
            "Requirement already satisfied: httpcore==1.* in /usr/local/lib/python3.11/dist-packages (from httpx<1,>=0.23.0->langsmith<0.4,>=0.1.125->langchain-community) (1.0.7)\n",
            "Requirement already satisfied: h11<0.15,>=0.13 in /usr/local/lib/python3.11/dist-packages (from httpcore==1.*->httpx<1,>=0.23.0->langsmith<0.4,>=0.1.125->langchain-community) (0.14.0)\n",
            "Requirement already satisfied: jsonpointer>=1.9 in /usr/local/lib/python3.11/dist-packages (from jsonpatch<2.0,>=1.33->langchain-core<1.0.0,>=0.3.37->langchain-community) (3.0.0)\n",
            "Requirement already satisfied: pyasn1<0.7.0,>=0.4.6 in /usr/local/lib/python3.11/dist-packages (from pyasn1-modules>=0.2.1->google-auth>=2.15.0->google-generativeai) (0.6.1)\n",
            "Collecting mypy-extensions>=0.3.0 (from typing-inspect<1,>=0.4.0->dataclasses-json<0.7,>=0.5.7->langchain-community)\n",
            "  Downloading mypy_extensions-1.0.0-py3-none-any.whl.metadata (1.1 kB)\n",
            "Requirement already satisfied: sniffio>=1.1 in /usr/local/lib/python3.11/dist-packages (from anyio->httpx<1,>=0.23.0->langsmith<0.4,>=0.1.125->langchain-community) (1.3.1)\n",
            "Downloading langchain_community-0.3.18-py3-none-any.whl (2.5 MB)\n",
            "\u001b[2K   \u001b[90m━━━━━━━━━━━━━━━━━━━━━━━━━━━━━━━━━━━━━━━━\u001b[0m \u001b[32m2.5/2.5 MB\u001b[0m \u001b[31m45.7 MB/s\u001b[0m eta \u001b[36m0:00:00\u001b[0m\n",
            "\u001b[?25hDownloading dataclasses_json-0.6.7-py3-none-any.whl (28 kB)\n",
            "Downloading httpx_sse-0.4.0-py3-none-any.whl (7.8 kB)\n",
            "Downloading pydantic_settings-2.8.0-py3-none-any.whl (30 kB)\n",
            "Downloading marshmallow-3.26.1-py3-none-any.whl (50 kB)\n",
            "\u001b[2K   \u001b[90m━━━━━━━━━━━━━━━━━━━━━━━━━━━━━━━━━━━━━━━━\u001b[0m \u001b[32m50.9/50.9 kB\u001b[0m \u001b[31m4.8 MB/s\u001b[0m eta \u001b[36m0:00:00\u001b[0m\n",
            "\u001b[?25hDownloading python_dotenv-1.0.1-py3-none-any.whl (19 kB)\n",
            "Downloading typing_inspect-0.9.0-py3-none-any.whl (8.8 kB)\n",
            "Downloading mypy_extensions-1.0.0-py3-none-any.whl (4.7 kB)\n",
            "Installing collected packages: python-dotenv, mypy-extensions, marshmallow, httpx-sse, typing-inspect, pydantic-settings, dataclasses-json, langchain-community\n",
            "Successfully installed dataclasses-json-0.6.7 httpx-sse-0.4.0 langchain-community-0.3.18 marshmallow-3.26.1 mypy-extensions-1.0.0 pydantic-settings-2.8.0 python-dotenv-1.0.1 typing-inspect-0.9.0\n"
          ]
        }
      ]
    },
    {
      "cell_type": "code",
      "execution_count": null,
      "metadata": {
        "colab": {
          "base_uri": "https://localhost:8080/"
        },
        "id": "Kj50BKkIeQhe",
        "outputId": "633eb03e-0121-44a6-f9e0-d2712fc8e1fe"
      },
      "outputs": [
        {
          "output_type": "stream",
          "name": "stdout",
          "text": [
            "Requirement already satisfied: langchain==0.3.19 in /usr/local/lib/python3.11/dist-packages (0.3.19)\n",
            "Requirement already satisfied: langchain-core<1.0.0,>=0.3.35 in /usr/local/lib/python3.11/dist-packages (from langchain==0.3.19) (0.3.37)\n",
            "Requirement already satisfied: langchain-text-splitters<1.0.0,>=0.3.6 in /usr/local/lib/python3.11/dist-packages (from langchain==0.3.19) (0.3.6)\n",
            "Requirement already satisfied: langsmith<0.4,>=0.1.17 in /usr/local/lib/python3.11/dist-packages (from langchain==0.3.19) (0.3.8)\n",
            "Requirement already satisfied: pydantic<3.0.0,>=2.7.4 in /usr/local/lib/python3.11/dist-packages (from langchain==0.3.19) (2.10.6)\n",
            "Requirement already satisfied: SQLAlchemy<3,>=1.4 in /usr/local/lib/python3.11/dist-packages (from langchain==0.3.19) (2.0.38)\n",
            "Requirement already satisfied: requests<3,>=2 in /usr/local/lib/python3.11/dist-packages (from langchain==0.3.19) (2.32.3)\n",
            "Requirement already satisfied: PyYAML>=5.3 in /usr/local/lib/python3.11/dist-packages (from langchain==0.3.19) (6.0.2)\n",
            "Requirement already satisfied: aiohttp<4.0.0,>=3.8.3 in /usr/local/lib/python3.11/dist-packages (from langchain==0.3.19) (3.11.12)\n",
            "Requirement already satisfied: tenacity!=8.4.0,<10,>=8.1.0 in /usr/local/lib/python3.11/dist-packages (from langchain==0.3.19) (9.0.0)\n",
            "Requirement already satisfied: numpy<2,>=1.26.4 in /usr/local/lib/python3.11/dist-packages (from langchain==0.3.19) (1.26.4)\n",
            "Requirement already satisfied: aiohappyeyeballs>=2.3.0 in /usr/local/lib/python3.11/dist-packages (from aiohttp<4.0.0,>=3.8.3->langchain==0.3.19) (2.4.6)\n",
            "Requirement already satisfied: aiosignal>=1.1.2 in /usr/local/lib/python3.11/dist-packages (from aiohttp<4.0.0,>=3.8.3->langchain==0.3.19) (1.3.2)\n",
            "Requirement already satisfied: attrs>=17.3.0 in /usr/local/lib/python3.11/dist-packages (from aiohttp<4.0.0,>=3.8.3->langchain==0.3.19) (25.1.0)\n",
            "Requirement already satisfied: frozenlist>=1.1.1 in /usr/local/lib/python3.11/dist-packages (from aiohttp<4.0.0,>=3.8.3->langchain==0.3.19) (1.5.0)\n",
            "Requirement already satisfied: multidict<7.0,>=4.5 in /usr/local/lib/python3.11/dist-packages (from aiohttp<4.0.0,>=3.8.3->langchain==0.3.19) (6.1.0)\n",
            "Requirement already satisfied: propcache>=0.2.0 in /usr/local/lib/python3.11/dist-packages (from aiohttp<4.0.0,>=3.8.3->langchain==0.3.19) (0.2.1)\n",
            "Requirement already satisfied: yarl<2.0,>=1.17.0 in /usr/local/lib/python3.11/dist-packages (from aiohttp<4.0.0,>=3.8.3->langchain==0.3.19) (1.18.3)\n",
            "Requirement already satisfied: jsonpatch<2.0,>=1.33 in /usr/local/lib/python3.11/dist-packages (from langchain-core<1.0.0,>=0.3.35->langchain==0.3.19) (1.33)\n",
            "Requirement already satisfied: packaging<25,>=23.2 in /usr/local/lib/python3.11/dist-packages (from langchain-core<1.0.0,>=0.3.35->langchain==0.3.19) (24.2)\n",
            "Requirement already satisfied: typing-extensions>=4.7 in /usr/local/lib/python3.11/dist-packages (from langchain-core<1.0.0,>=0.3.35->langchain==0.3.19) (4.12.2)\n",
            "Requirement already satisfied: httpx<1,>=0.23.0 in /usr/local/lib/python3.11/dist-packages (from langsmith<0.4,>=0.1.17->langchain==0.3.19) (0.28.1)\n",
            "Requirement already satisfied: orjson<4.0.0,>=3.9.14 in /usr/local/lib/python3.11/dist-packages (from langsmith<0.4,>=0.1.17->langchain==0.3.19) (3.10.15)\n",
            "Requirement already satisfied: requests-toolbelt<2.0.0,>=1.0.0 in /usr/local/lib/python3.11/dist-packages (from langsmith<0.4,>=0.1.17->langchain==0.3.19) (1.0.0)\n",
            "Requirement already satisfied: zstandard<0.24.0,>=0.23.0 in /usr/local/lib/python3.11/dist-packages (from langsmith<0.4,>=0.1.17->langchain==0.3.19) (0.23.0)\n",
            "Requirement already satisfied: annotated-types>=0.6.0 in /usr/local/lib/python3.11/dist-packages (from pydantic<3.0.0,>=2.7.4->langchain==0.3.19) (0.7.0)\n",
            "Requirement already satisfied: pydantic-core==2.27.2 in /usr/local/lib/python3.11/dist-packages (from pydantic<3.0.0,>=2.7.4->langchain==0.3.19) (2.27.2)\n",
            "Requirement already satisfied: charset-normalizer<4,>=2 in /usr/local/lib/python3.11/dist-packages (from requests<3,>=2->langchain==0.3.19) (3.4.1)\n",
            "Requirement already satisfied: idna<4,>=2.5 in /usr/local/lib/python3.11/dist-packages (from requests<3,>=2->langchain==0.3.19) (3.10)\n",
            "Requirement already satisfied: urllib3<3,>=1.21.1 in /usr/local/lib/python3.11/dist-packages (from requests<3,>=2->langchain==0.3.19) (2.3.0)\n",
            "Requirement already satisfied: certifi>=2017.4.17 in /usr/local/lib/python3.11/dist-packages (from requests<3,>=2->langchain==0.3.19) (2025.1.31)\n",
            "Requirement already satisfied: greenlet!=0.4.17 in /usr/local/lib/python3.11/dist-packages (from SQLAlchemy<3,>=1.4->langchain==0.3.19) (3.1.1)\n",
            "Requirement already satisfied: anyio in /usr/local/lib/python3.11/dist-packages (from httpx<1,>=0.23.0->langsmith<0.4,>=0.1.17->langchain==0.3.19) (3.7.1)\n",
            "Requirement already satisfied: httpcore==1.* in /usr/local/lib/python3.11/dist-packages (from httpx<1,>=0.23.0->langsmith<0.4,>=0.1.17->langchain==0.3.19) (1.0.7)\n",
            "Requirement already satisfied: h11<0.15,>=0.13 in /usr/local/lib/python3.11/dist-packages (from httpcore==1.*->httpx<1,>=0.23.0->langsmith<0.4,>=0.1.17->langchain==0.3.19) (0.14.0)\n",
            "Requirement already satisfied: jsonpointer>=1.9 in /usr/local/lib/python3.11/dist-packages (from jsonpatch<2.0,>=1.33->langchain-core<1.0.0,>=0.3.35->langchain==0.3.19) (3.0.0)\n",
            "Requirement already satisfied: sniffio>=1.1 in /usr/local/lib/python3.11/dist-packages (from anyio->httpx<1,>=0.23.0->langsmith<0.4,>=0.1.17->langchain==0.3.19) (1.3.1)\n",
            "Collecting langchain-google-genai\n",
            "  Downloading langchain_google_genai-2.0.10-py3-none-any.whl.metadata (3.6 kB)\n",
            "Collecting filetype<2.0.0,>=1.2.0 (from langchain-google-genai)\n",
            "  Downloading filetype-1.2.0-py2.py3-none-any.whl.metadata (6.5 kB)\n",
            "Requirement already satisfied: google-generativeai<0.9.0,>=0.8.0 in /usr/local/lib/python3.11/dist-packages (from langchain-google-genai) (0.8.4)\n",
            "Requirement already satisfied: langchain-core<0.4.0,>=0.3.37 in /usr/local/lib/python3.11/dist-packages (from langchain-google-genai) (0.3.37)\n",
            "Requirement already satisfied: pydantic<3,>=2 in /usr/local/lib/python3.11/dist-packages (from langchain-google-genai) (2.10.6)\n",
            "Requirement already satisfied: google-ai-generativelanguage==0.6.15 in /usr/local/lib/python3.11/dist-packages (from google-generativeai<0.9.0,>=0.8.0->langchain-google-genai) (0.6.15)\n",
            "Requirement already satisfied: google-api-core in /usr/local/lib/python3.11/dist-packages (from google-generativeai<0.9.0,>=0.8.0->langchain-google-genai) (2.24.1)\n",
            "Requirement already satisfied: google-api-python-client in /usr/local/lib/python3.11/dist-packages (from google-generativeai<0.9.0,>=0.8.0->langchain-google-genai) (2.160.0)\n",
            "Requirement already satisfied: google-auth>=2.15.0 in /usr/local/lib/python3.11/dist-packages (from google-generativeai<0.9.0,>=0.8.0->langchain-google-genai) (2.27.0)\n",
            "Requirement already satisfied: protobuf in /usr/local/lib/python3.11/dist-packages (from google-generativeai<0.9.0,>=0.8.0->langchain-google-genai) (4.25.6)\n",
            "Requirement already satisfied: tqdm in /usr/local/lib/python3.11/dist-packages (from google-generativeai<0.9.0,>=0.8.0->langchain-google-genai) (4.67.1)\n",
            "Requirement already satisfied: typing-extensions in /usr/local/lib/python3.11/dist-packages (from google-generativeai<0.9.0,>=0.8.0->langchain-google-genai) (4.12.2)\n",
            "Requirement already satisfied: proto-plus<2.0.0dev,>=1.22.3 in /usr/local/lib/python3.11/dist-packages (from google-ai-generativelanguage==0.6.15->google-generativeai<0.9.0,>=0.8.0->langchain-google-genai) (1.26.0)\n",
            "Requirement already satisfied: langsmith<0.4,>=0.1.125 in /usr/local/lib/python3.11/dist-packages (from langchain-core<0.4.0,>=0.3.37->langchain-google-genai) (0.3.8)\n",
            "Requirement already satisfied: tenacity!=8.4.0,<10.0.0,>=8.1.0 in /usr/local/lib/python3.11/dist-packages (from langchain-core<0.4.0,>=0.3.37->langchain-google-genai) (9.0.0)\n",
            "Requirement already satisfied: jsonpatch<2.0,>=1.33 in /usr/local/lib/python3.11/dist-packages (from langchain-core<0.4.0,>=0.3.37->langchain-google-genai) (1.33)\n",
            "Requirement already satisfied: PyYAML>=5.3 in /usr/local/lib/python3.11/dist-packages (from langchain-core<0.4.0,>=0.3.37->langchain-google-genai) (6.0.2)\n",
            "Requirement already satisfied: packaging<25,>=23.2 in /usr/local/lib/python3.11/dist-packages (from langchain-core<0.4.0,>=0.3.37->langchain-google-genai) (24.2)\n",
            "Requirement already satisfied: annotated-types>=0.6.0 in /usr/local/lib/python3.11/dist-packages (from pydantic<3,>=2->langchain-google-genai) (0.7.0)\n",
            "Requirement already satisfied: pydantic-core==2.27.2 in /usr/local/lib/python3.11/dist-packages (from pydantic<3,>=2->langchain-google-genai) (2.27.2)\n",
            "Requirement already satisfied: googleapis-common-protos<2.0.dev0,>=1.56.2 in /usr/local/lib/python3.11/dist-packages (from google-api-core->google-generativeai<0.9.0,>=0.8.0->langchain-google-genai) (1.67.0)\n",
            "Requirement already satisfied: requests<3.0.0.dev0,>=2.18.0 in /usr/local/lib/python3.11/dist-packages (from google-api-core->google-generativeai<0.9.0,>=0.8.0->langchain-google-genai) (2.32.3)\n",
            "Requirement already satisfied: cachetools<6.0,>=2.0.0 in /usr/local/lib/python3.11/dist-packages (from google-auth>=2.15.0->google-generativeai<0.9.0,>=0.8.0->langchain-google-genai) (5.5.1)\n",
            "Requirement already satisfied: pyasn1-modules>=0.2.1 in /usr/local/lib/python3.11/dist-packages (from google-auth>=2.15.0->google-generativeai<0.9.0,>=0.8.0->langchain-google-genai) (0.4.1)\n",
            "Requirement already satisfied: rsa<5,>=3.1.4 in /usr/local/lib/python3.11/dist-packages (from google-auth>=2.15.0->google-generativeai<0.9.0,>=0.8.0->langchain-google-genai) (4.9)\n",
            "Requirement already satisfied: jsonpointer>=1.9 in /usr/local/lib/python3.11/dist-packages (from jsonpatch<2.0,>=1.33->langchain-core<0.4.0,>=0.3.37->langchain-google-genai) (3.0.0)\n",
            "Requirement already satisfied: httpx<1,>=0.23.0 in /usr/local/lib/python3.11/dist-packages (from langsmith<0.4,>=0.1.125->langchain-core<0.4.0,>=0.3.37->langchain-google-genai) (0.28.1)\n",
            "Requirement already satisfied: orjson<4.0.0,>=3.9.14 in /usr/local/lib/python3.11/dist-packages (from langsmith<0.4,>=0.1.125->langchain-core<0.4.0,>=0.3.37->langchain-google-genai) (3.10.15)\n",
            "Requirement already satisfied: requests-toolbelt<2.0.0,>=1.0.0 in /usr/local/lib/python3.11/dist-packages (from langsmith<0.4,>=0.1.125->langchain-core<0.4.0,>=0.3.37->langchain-google-genai) (1.0.0)\n",
            "Requirement already satisfied: zstandard<0.24.0,>=0.23.0 in /usr/local/lib/python3.11/dist-packages (from langsmith<0.4,>=0.1.125->langchain-core<0.4.0,>=0.3.37->langchain-google-genai) (0.23.0)\n",
            "Requirement already satisfied: httplib2<1.dev0,>=0.19.0 in /usr/local/lib/python3.11/dist-packages (from google-api-python-client->google-generativeai<0.9.0,>=0.8.0->langchain-google-genai) (0.22.0)\n",
            "Requirement already satisfied: google-auth-httplib2<1.0.0,>=0.2.0 in /usr/local/lib/python3.11/dist-packages (from google-api-python-client->google-generativeai<0.9.0,>=0.8.0->langchain-google-genai) (0.2.0)\n",
            "Requirement already satisfied: uritemplate<5,>=3.0.1 in /usr/local/lib/python3.11/dist-packages (from google-api-python-client->google-generativeai<0.9.0,>=0.8.0->langchain-google-genai) (4.1.1)\n",
            "Requirement already satisfied: grpcio<2.0dev,>=1.33.2 in /usr/local/lib/python3.11/dist-packages (from google-api-core[grpc]!=2.0.*,!=2.1.*,!=2.10.*,!=2.2.*,!=2.3.*,!=2.4.*,!=2.5.*,!=2.6.*,!=2.7.*,!=2.8.*,!=2.9.*,<3.0.0dev,>=1.34.1->google-ai-generativelanguage==0.6.15->google-generativeai<0.9.0,>=0.8.0->langchain-google-genai) (1.70.0)\n",
            "Requirement already satisfied: grpcio-status<2.0.dev0,>=1.33.2 in /usr/local/lib/python3.11/dist-packages (from google-api-core[grpc]!=2.0.*,!=2.1.*,!=2.10.*,!=2.2.*,!=2.3.*,!=2.4.*,!=2.5.*,!=2.6.*,!=2.7.*,!=2.8.*,!=2.9.*,<3.0.0dev,>=1.34.1->google-ai-generativelanguage==0.6.15->google-generativeai<0.9.0,>=0.8.0->langchain-google-genai) (1.62.3)\n",
            "Requirement already satisfied: pyparsing!=3.0.0,!=3.0.1,!=3.0.2,!=3.0.3,<4,>=2.4.2 in /usr/local/lib/python3.11/dist-packages (from httplib2<1.dev0,>=0.19.0->google-api-python-client->google-generativeai<0.9.0,>=0.8.0->langchain-google-genai) (3.2.1)\n",
            "Requirement already satisfied: anyio in /usr/local/lib/python3.11/dist-packages (from httpx<1,>=0.23.0->langsmith<0.4,>=0.1.125->langchain-core<0.4.0,>=0.3.37->langchain-google-genai) (3.7.1)\n",
            "Requirement already satisfied: certifi in /usr/local/lib/python3.11/dist-packages (from httpx<1,>=0.23.0->langsmith<0.4,>=0.1.125->langchain-core<0.4.0,>=0.3.37->langchain-google-genai) (2025.1.31)\n",
            "Requirement already satisfied: httpcore==1.* in /usr/local/lib/python3.11/dist-packages (from httpx<1,>=0.23.0->langsmith<0.4,>=0.1.125->langchain-core<0.4.0,>=0.3.37->langchain-google-genai) (1.0.7)\n",
            "Requirement already satisfied: idna in /usr/local/lib/python3.11/dist-packages (from httpx<1,>=0.23.0->langsmith<0.4,>=0.1.125->langchain-core<0.4.0,>=0.3.37->langchain-google-genai) (3.10)\n",
            "Requirement already satisfied: h11<0.15,>=0.13 in /usr/local/lib/python3.11/dist-packages (from httpcore==1.*->httpx<1,>=0.23.0->langsmith<0.4,>=0.1.125->langchain-core<0.4.0,>=0.3.37->langchain-google-genai) (0.14.0)\n",
            "Requirement already satisfied: pyasn1<0.7.0,>=0.4.6 in /usr/local/lib/python3.11/dist-packages (from pyasn1-modules>=0.2.1->google-auth>=2.15.0->google-generativeai<0.9.0,>=0.8.0->langchain-google-genai) (0.6.1)\n",
            "Requirement already satisfied: charset-normalizer<4,>=2 in /usr/local/lib/python3.11/dist-packages (from requests<3.0.0.dev0,>=2.18.0->google-api-core->google-generativeai<0.9.0,>=0.8.0->langchain-google-genai) (3.4.1)\n",
            "Requirement already satisfied: urllib3<3,>=1.21.1 in /usr/local/lib/python3.11/dist-packages (from requests<3.0.0.dev0,>=2.18.0->google-api-core->google-generativeai<0.9.0,>=0.8.0->langchain-google-genai) (2.3.0)\n",
            "Requirement already satisfied: sniffio>=1.1 in /usr/local/lib/python3.11/dist-packages (from anyio->httpx<1,>=0.23.0->langsmith<0.4,>=0.1.125->langchain-core<0.4.0,>=0.3.37->langchain-google-genai) (1.3.1)\n",
            "Downloading langchain_google_genai-2.0.10-py3-none-any.whl (41 kB)\n",
            "\u001b[2K   \u001b[90m━━━━━━━━━━━━━━━━━━━━━━━━━━━━━━━━━━━━━━━━\u001b[0m \u001b[32m42.0/42.0 kB\u001b[0m \u001b[31m2.7 MB/s\u001b[0m eta \u001b[36m0:00:00\u001b[0m\n",
            "\u001b[?25hDownloading filetype-1.2.0-py2.py3-none-any.whl (19 kB)\n",
            "Installing collected packages: filetype, langchain-google-genai\n",
            "Successfully installed filetype-1.2.0 langchain-google-genai-2.0.10\n",
            "Requirement already satisfied: langchain-community in /usr/local/lib/python3.11/dist-packages (0.3.18)\n",
            "Requirement already satisfied: langchain-core<1.0.0,>=0.3.37 in /usr/local/lib/python3.11/dist-packages (from langchain-community) (0.3.37)\n",
            "Requirement already satisfied: langchain<1.0.0,>=0.3.19 in /usr/local/lib/python3.11/dist-packages (from langchain-community) (0.3.19)\n",
            "Requirement already satisfied: SQLAlchemy<3,>=1.4 in /usr/local/lib/python3.11/dist-packages (from langchain-community) (2.0.38)\n",
            "Requirement already satisfied: requests<3,>=2 in /usr/local/lib/python3.11/dist-packages (from langchain-community) (2.32.3)\n",
            "Requirement already satisfied: PyYAML>=5.3 in /usr/local/lib/python3.11/dist-packages (from langchain-community) (6.0.2)\n",
            "Requirement already satisfied: aiohttp<4.0.0,>=3.8.3 in /usr/local/lib/python3.11/dist-packages (from langchain-community) (3.11.12)\n",
            "Requirement already satisfied: tenacity!=8.4.0,<10,>=8.1.0 in /usr/local/lib/python3.11/dist-packages (from langchain-community) (9.0.0)\n",
            "Requirement already satisfied: dataclasses-json<0.7,>=0.5.7 in /usr/local/lib/python3.11/dist-packages (from langchain-community) (0.6.7)\n",
            "Requirement already satisfied: pydantic-settings<3.0.0,>=2.4.0 in /usr/local/lib/python3.11/dist-packages (from langchain-community) (2.8.0)\n",
            "Requirement already satisfied: langsmith<0.4,>=0.1.125 in /usr/local/lib/python3.11/dist-packages (from langchain-community) (0.3.8)\n",
            "Requirement already satisfied: httpx-sse<1.0.0,>=0.4.0 in /usr/local/lib/python3.11/dist-packages (from langchain-community) (0.4.0)\n",
            "Requirement already satisfied: numpy<2,>=1.26.4 in /usr/local/lib/python3.11/dist-packages (from langchain-community) (1.26.4)\n",
            "Requirement already satisfied: aiohappyeyeballs>=2.3.0 in /usr/local/lib/python3.11/dist-packages (from aiohttp<4.0.0,>=3.8.3->langchain-community) (2.4.6)\n",
            "Requirement already satisfied: aiosignal>=1.1.2 in /usr/local/lib/python3.11/dist-packages (from aiohttp<4.0.0,>=3.8.3->langchain-community) (1.3.2)\n",
            "Requirement already satisfied: attrs>=17.3.0 in /usr/local/lib/python3.11/dist-packages (from aiohttp<4.0.0,>=3.8.3->langchain-community) (25.1.0)\n",
            "Requirement already satisfied: frozenlist>=1.1.1 in /usr/local/lib/python3.11/dist-packages (from aiohttp<4.0.0,>=3.8.3->langchain-community) (1.5.0)\n",
            "Requirement already satisfied: multidict<7.0,>=4.5 in /usr/local/lib/python3.11/dist-packages (from aiohttp<4.0.0,>=3.8.3->langchain-community) (6.1.0)\n",
            "Requirement already satisfied: propcache>=0.2.0 in /usr/local/lib/python3.11/dist-packages (from aiohttp<4.0.0,>=3.8.3->langchain-community) (0.2.1)\n",
            "Requirement already satisfied: yarl<2.0,>=1.17.0 in /usr/local/lib/python3.11/dist-packages (from aiohttp<4.0.0,>=3.8.3->langchain-community) (1.18.3)\n",
            "Requirement already satisfied: marshmallow<4.0.0,>=3.18.0 in /usr/local/lib/python3.11/dist-packages (from dataclasses-json<0.7,>=0.5.7->langchain-community) (3.26.1)\n",
            "Requirement already satisfied: typing-inspect<1,>=0.4.0 in /usr/local/lib/python3.11/dist-packages (from dataclasses-json<0.7,>=0.5.7->langchain-community) (0.9.0)\n",
            "Requirement already satisfied: langchain-text-splitters<1.0.0,>=0.3.6 in /usr/local/lib/python3.11/dist-packages (from langchain<1.0.0,>=0.3.19->langchain-community) (0.3.6)\n",
            "Requirement already satisfied: pydantic<3.0.0,>=2.7.4 in /usr/local/lib/python3.11/dist-packages (from langchain<1.0.0,>=0.3.19->langchain-community) (2.10.6)\n",
            "Requirement already satisfied: jsonpatch<2.0,>=1.33 in /usr/local/lib/python3.11/dist-packages (from langchain-core<1.0.0,>=0.3.37->langchain-community) (1.33)\n",
            "Requirement already satisfied: packaging<25,>=23.2 in /usr/local/lib/python3.11/dist-packages (from langchain-core<1.0.0,>=0.3.37->langchain-community) (24.2)\n",
            "Requirement already satisfied: typing-extensions>=4.7 in /usr/local/lib/python3.11/dist-packages (from langchain-core<1.0.0,>=0.3.37->langchain-community) (4.12.2)\n",
            "Requirement already satisfied: httpx<1,>=0.23.0 in /usr/local/lib/python3.11/dist-packages (from langsmith<0.4,>=0.1.125->langchain-community) (0.28.1)\n",
            "Requirement already satisfied: orjson<4.0.0,>=3.9.14 in /usr/local/lib/python3.11/dist-packages (from langsmith<0.4,>=0.1.125->langchain-community) (3.10.15)\n",
            "Requirement already satisfied: requests-toolbelt<2.0.0,>=1.0.0 in /usr/local/lib/python3.11/dist-packages (from langsmith<0.4,>=0.1.125->langchain-community) (1.0.0)\n",
            "Requirement already satisfied: zstandard<0.24.0,>=0.23.0 in /usr/local/lib/python3.11/dist-packages (from langsmith<0.4,>=0.1.125->langchain-community) (0.23.0)\n",
            "Requirement already satisfied: python-dotenv>=0.21.0 in /usr/local/lib/python3.11/dist-packages (from pydantic-settings<3.0.0,>=2.4.0->langchain-community) (1.0.1)\n",
            "Requirement already satisfied: charset-normalizer<4,>=2 in /usr/local/lib/python3.11/dist-packages (from requests<3,>=2->langchain-community) (3.4.1)\n",
            "Requirement already satisfied: idna<4,>=2.5 in /usr/local/lib/python3.11/dist-packages (from requests<3,>=2->langchain-community) (3.10)\n",
            "Requirement already satisfied: urllib3<3,>=1.21.1 in /usr/local/lib/python3.11/dist-packages (from requests<3,>=2->langchain-community) (2.3.0)\n",
            "Requirement already satisfied: certifi>=2017.4.17 in /usr/local/lib/python3.11/dist-packages (from requests<3,>=2->langchain-community) (2025.1.31)\n",
            "Requirement already satisfied: greenlet!=0.4.17 in /usr/local/lib/python3.11/dist-packages (from SQLAlchemy<3,>=1.4->langchain-community) (3.1.1)\n",
            "Requirement already satisfied: anyio in /usr/local/lib/python3.11/dist-packages (from httpx<1,>=0.23.0->langsmith<0.4,>=0.1.125->langchain-community) (3.7.1)\n",
            "Requirement already satisfied: httpcore==1.* in /usr/local/lib/python3.11/dist-packages (from httpx<1,>=0.23.0->langsmith<0.4,>=0.1.125->langchain-community) (1.0.7)\n",
            "Requirement already satisfied: h11<0.15,>=0.13 in /usr/local/lib/python3.11/dist-packages (from httpcore==1.*->httpx<1,>=0.23.0->langsmith<0.4,>=0.1.125->langchain-community) (0.14.0)\n",
            "Requirement already satisfied: jsonpointer>=1.9 in /usr/local/lib/python3.11/dist-packages (from jsonpatch<2.0,>=1.33->langchain-core<1.0.0,>=0.3.37->langchain-community) (3.0.0)\n",
            "Requirement already satisfied: annotated-types>=0.6.0 in /usr/local/lib/python3.11/dist-packages (from pydantic<3.0.0,>=2.7.4->langchain<1.0.0,>=0.3.19->langchain-community) (0.7.0)\n",
            "Requirement already satisfied: pydantic-core==2.27.2 in /usr/local/lib/python3.11/dist-packages (from pydantic<3.0.0,>=2.7.4->langchain<1.0.0,>=0.3.19->langchain-community) (2.27.2)\n",
            "Requirement already satisfied: mypy-extensions>=0.3.0 in /usr/local/lib/python3.11/dist-packages (from typing-inspect<1,>=0.4.0->dataclasses-json<0.7,>=0.5.7->langchain-community) (1.0.0)\n",
            "Requirement already satisfied: sniffio>=1.1 in /usr/local/lib/python3.11/dist-packages (from anyio->httpx<1,>=0.23.0->langsmith<0.4,>=0.1.125->langchain-community) (1.3.1)\n"
          ]
        }
      ],
      "source": [
        "!pip install langchain==0.3.19\n",
        "!pip install langchain-google-genai\n",
        "!pip install langchain-community"
      ]
    },
    {
      "cell_type": "code",
      "source": [
        "# Gemini API key\n",
        "from google.colab import userdata\n",
        "userdata.get('GOOGLE_API_KEY')"
      ],
      "metadata": {
        "colab": {
          "base_uri": "https://localhost:8080/",
          "height": 36
        },
        "collapsed": true,
        "id": "GrYdLEXnfCnd",
        "outputId": "b978031c-792b-495e-eec7-f94050f26df2"
      },
      "execution_count": null,
      "outputs": [
        {
          "output_type": "execute_result",
          "data": {
            "text/plain": [
              "''"
            ],
            "application/vnd.google.colaboratory.intrinsic+json": {
              "type": "string"
            }
          },
          "metadata": {},
          "execution_count": 4
        }
      ]
    },
    {
      "cell_type": "code",
      "source": [
        "import os\n",
        "os.environ['GOOGLE_API_KEY'] = userdata.get('GOOGLE_API_KEY')"
      ],
      "metadata": {
        "id": "JYxjfG34Fy_n"
      },
      "execution_count": null,
      "outputs": []
    },
    {
      "cell_type": "code",
      "source": [
        "from langchain_google_genai import GoogleGenerativeAI\n",
        "\n",
        "llm = GoogleGenerativeAI(\n",
        "    model = 'gemini-pro',\n",
        "    temperature=0)"
      ],
      "metadata": {
        "id": "UqIsHplCfn9s"
      },
      "execution_count": null,
      "outputs": []
    },
    {
      "cell_type": "markdown",
      "source": [
        "# Using GeminiAI  \n",
        "# Task1 : Research paper review - attention all you need (Transformers) or word2vec 2014 paper"
      ],
      "metadata": {
        "id": "djvd8CXogZx2"
      }
    },
    {
      "cell_type": "markdown",
      "source": [
        "# Converting PDF to text format"
      ],
      "metadata": {
        "id": "7fWxOAPxhKlP"
      }
    },
    {
      "cell_type": "code",
      "source": [
        "!pip install pdfplumber\n"
      ],
      "metadata": {
        "id": "m1cvS1XdEJ4C"
      },
      "execution_count": null,
      "outputs": []
    },
    {
      "cell_type": "code",
      "source": [
        "import pdfplumber\n",
        "\n",
        "def pdf_to_text(pdf_path, text_file_path):\n",
        "    text = \"\"\n",
        "    with pdfplumber.open(pdf_path) as pdf:\n",
        "        for page in pdf.pages:\n",
        "            text += page.extract_text() + \"\\n\"\n",
        "    # save to a text file\n",
        "    with open(text_file_path, 'w', encoding='utf-8') as f:\n",
        "        f.write(text)\n",
        "\n",
        "    return text\n",
        "\n",
        "pdf_path = \"/content/NIPS-2017-attention-is-all-you-need-Paper.pdf\"\n",
        "text_path ='attention_is_all_you_need.txt'\n",
        "text = pdf_to_text(pdf_path, text_path)\n",
        "print('PDF converted to text successfully')"
      ],
      "metadata": {
        "colab": {
          "base_uri": "https://localhost:8080/"
        },
        "collapsed": true,
        "id": "qMPoWX3LlQc6",
        "outputId": "dff3d6ad-c109-49c3-c93b-aef2dda20e36"
      },
      "execution_count": null,
      "outputs": [
        {
          "output_type": "stream",
          "name": "stdout",
          "text": [
            "PDF converted to text successfully\n"
          ]
        }
      ]
    },
    {
      "cell_type": "code",
      "source": [
        "from langchain.prompts import PromptTemplate\n",
        "from langchain_core.output_parsers import PydanticOutputParser\n",
        "from pydantic import BaseModel, Field\n"
      ],
      "metadata": {
        "collapsed": true,
        "id": "ESDYN6TCgUoD"
      },
      "execution_count": null,
      "outputs": []
    },
    {
      "cell_type": "code",
      "source": [
        "# Define a data structure\n",
        "class QueryResponse(BaseModel):\n",
        "  Key_findings : str = Field(description=\"key findings of the model\")\n",
        "  pros: str = Field(description=\"pros of the model\")\n",
        "  cons: str = Field(description=\"cons of the model\")\n",
        "\n",
        "parser = PydanticOutputParser(pydantic_object=QueryResponse)\n",
        "parser"
      ],
      "metadata": {
        "colab": {
          "base_uri": "https://localhost:8080/"
        },
        "id": "dOdkafzt78Sb",
        "outputId": "cc9ccf9c-b289-470b-f3c0-03075b8cfe07"
      },
      "execution_count": null,
      "outputs": [
        {
          "output_type": "execute_result",
          "data": {
            "text/plain": [
              "PydanticOutputParser(pydantic_object=<class '__main__.QueryResponse'>)"
            ]
          },
          "metadata": {},
          "execution_count": 44
        }
      ]
    },
    {
      "cell_type": "code",
      "source": [
        "print(parser.get_format_instructions())"
      ],
      "metadata": {
        "colab": {
          "base_uri": "https://localhost:8080/"
        },
        "id": "UGNcecgr8Xld",
        "outputId": "07581c39-d73d-41f3-9d92-8eaa80b28b52"
      },
      "execution_count": null,
      "outputs": [
        {
          "output_type": "stream",
          "name": "stdout",
          "text": [
            "The output should be formatted as a JSON instance that conforms to the JSON schema below.\n",
            "\n",
            "As an example, for the schema {\"properties\": {\"foo\": {\"title\": \"Foo\", \"description\": \"a list of strings\", \"type\": \"array\", \"items\": {\"type\": \"string\"}}}, \"required\": [\"foo\"]}\n",
            "the object {\"foo\": [\"bar\", \"baz\"]} is a well-formatted instance of the schema. The object {\"properties\": {\"foo\": [\"bar\", \"baz\"]}} is not well-formatted.\n",
            "\n",
            "Here is the output schema:\n",
            "```\n",
            "{\"properties\": {\"Key_findings\": {\"description\": \"key findings of the model\", \"title\": \"Key Findings\", \"type\": \"string\"}, \"pros\": {\"description\": \"pros of the model\", \"title\": \"Pros\", \"type\": \"string\"}, \"cons\": {\"description\": \"cons of the model\", \"title\": \"Cons\", \"type\": \"string\"}}, \"required\": [\"Key_findings\", \"pros\", \"cons\"]}\n",
            "```\n"
          ]
        }
      ]
    },
    {
      "cell_type": "code",
      "source": [
        "prompt_text ='''act like a professional, explain in detail with 3 bullet points of\n",
        "the key findings, pros and cons of the model in simple english\n",
        " Format Instruction: {format_instructions}\n",
        " Text:{text}\n",
        " '''\n",
        "prompt = PromptTemplate(\n",
        "    template=prompt_text,\n",
        "    input_variables=['text'],\n",
        "    partial_variables={\"format_instructions\": parser.get_format_instructions()}\n",
        ")"
      ],
      "metadata": {
        "id": "UxIoxFSblQbU"
      },
      "execution_count": null,
      "outputs": []
    },
    {
      "cell_type": "markdown",
      "source": [],
      "metadata": {
        "id": "U_lKKpcDJuvt"
      }
    },
    {
      "cell_type": "code",
      "source": [],
      "metadata": {
        "id": "yLaZvHxKACNs"
      },
      "execution_count": null,
      "outputs": []
    },
    {
      "cell_type": "code",
      "source": [
        "from langchain.chains import LLMChain\n",
        "chain=LLMChain(llm=llm , prompt=prompt)\n",
        "\n",
        "# load the extracted text from the file\n",
        "with open(text_path, 'r') as f:\n",
        "    text = f.read()\n",
        "response = chain.invoke({'text':text})\n",
        "\n",
        "response\n",
        "\n"
      ],
      "metadata": {
        "colab": {
          "base_uri": "https://localhost:8080/"
        },
        "id": "8Gxg99zdlQVu",
        "outputId": "9cb5a4d9-5108-4b79-d3c1-cd90103b2de6"
      },
      "execution_count": null,
      "outputs": [
        {
          "output_type": "execute_result",
          "data": {
            "text/plain": [
              "{'text': '```json\\n{\\n \"properties\": {\\n  \"Key_findings\": \"The Transformer is the first transduction model relying entirely on self-attention to compute representations of its input and output without using sequence-aligned RNNs or convolutions.\",\\n  \"pros\": \"- The Transformer allows for significantly more parallelization and can reach a new state of the art in translation quality after being trained for as little as twelve hours on eight P100 GPUs.\\\\n- The Transformer achieves 28.4 BLEU on the WMT 2014 English-to-German translation task, improving over the existing best results, including ensembles, by over 2 BLEU.\\\\n- On the WMT 2014 English-to-French translation task, our model establishes a new single-model state-of-the-art BLEU score of 41.0 after training for 3.5 days on eight GPUs, a small fraction of the training costs of the best models from the literature.\",\\n  \"cons\": \"- The Transformer is more computationally expensive than recurrent or convolutional layers when the sequence length is smaller than the representation dimensionality.\"\\n },\\n \"required\": [\\n  \"Key_findings\",\\n  \"pros\",\\n  \"cons\"\\n ]\\n}\\n```'}"
            ]
          },
          "metadata": {},
          "execution_count": 49
        }
      ]
    },
    {
      "cell_type": "code",
      "source": [
        "for k, v in response.items():\n",
        "  print(f\"{k}: \\n{v}\\n\")"
      ],
      "metadata": {
        "colab": {
          "base_uri": "https://localhost:8080/"
        },
        "id": "h03hLwTElQUE",
        "outputId": "e9c888fc-4466-45f3-f734-432be80a1282"
      },
      "execution_count": null,
      "outputs": [
        {
          "output_type": "stream",
          "name": "stdout",
          "text": [
            "text: \n",
            "```json\n",
            "{\n",
            " \"properties\": {\n",
            "  \"Key_findings\": \"The Transformer is the first transduction model relying entirely on self-attention to compute representations of its input and output without using sequence-aligned RNNs or convolutions.\",\n",
            "  \"pros\": \"- The Transformer allows for significantly more parallelization and can reach a new state of the art in translation quality after being trained for as little as twelve hours on eight P100 GPUs.\\n- The Transformer achieves 28.4 BLEU on the WMT 2014 English-to-German translation task, improving over the existing best results, including ensembles, by over 2 BLEU.\\n- On the WMT 2014 English-to-French translation task, our model establishes a new single-model state-of-the-art BLEU score of 41.0 after training for 3.5 days on eight GPUs, a small fraction of the training costs of the best models from the literature.\",\n",
            "  \"cons\": \"- The Transformer is more computationally expensive than recurrent or convolutional layers when the sequence length is smaller than the representation dimensionality.\"\n",
            " },\n",
            " \"required\": [\n",
            "  \"Key_findings\",\n",
            "  \"pros\",\n",
            "  \"cons\"\n",
            " ]\n",
            "}\n",
            "```\n",
            "\n"
          ]
        }
      ]
    },
    {
      "cell_type": "markdown",
      "source": [
        "Summary of the same"
      ],
      "metadata": {
        "id": "wh0VmKq2g7Y4"
      }
    },
    {
      "cell_type": "code",
      "source": [
        "from langchain.chains import LLMChain\n",
        "prompt1 = PromptTemplate(template = \"\"\"Summarization of paper 'Attention is all you need'\n",
        "    in simple terms. Focus on key concepts like self-attention, transformer architecture,\n",
        "    and benefits over RNNs\"\"\",\n",
        "                         input_variables = [])\n",
        "chain = LLMChain(llm=llm, prompt=prompt1)\n",
        "summary = chain.invoke({})\n",
        "print(summary)"
      ],
      "metadata": {
        "colab": {
          "base_uri": "https://localhost:8080/"
        },
        "id": "5YHufRCEHee_",
        "outputId": "723f647e-e25c-4f2d-ee25-41f5d417bd9c"
      },
      "execution_count": null,
      "outputs": [
        {
          "output_type": "stream",
          "name": "stderr",
          "text": [
            "<ipython-input-9-8c39879d1728>:6: LangChainDeprecationWarning: The class `LLMChain` was deprecated in LangChain 0.1.17 and will be removed in 1.0. Use :meth:`~RunnableSequence, e.g., `prompt | llm`` instead.\n",
            "  chain = LLMChain(llm=llm, prompt=prompt1)\n"
          ]
        },
        {
          "output_type": "stream",
          "name": "stdout",
          "text": [
            "{'text': '**Attention is all you need**\\n\\n**Key Concepts:**\\n\\n* **Self-Attention:** A mechanism that allows a model to focus on specific parts of its own input sequence.\\n* **Transformer Architecture:** A neural network architecture that uses self-attention instead of recurrent neural networks (RNNs).\\n\\n**Benefits over RNNs:**\\n\\n* **Parallel Processing:** Transformers can process all input tokens simultaneously, unlike RNNs which process tokens sequentially.\\n* **Long-Range Dependencies:** Transformers can capture long-range dependencies in the input sequence, which RNNs struggle with.\\n* **Scalability:** Transformers can be scaled up to larger datasets and longer sequences than RNNs.\\n\\n**How it Works:**\\n\\n1. **Input Embedding:** The input sequence is converted into a series of vectors.\\n2. **Self-Attention:** Each vector is compared to all other vectors in the sequence, creating a matrix of attention weights.\\n3. **Weighted Sum:** The attention weights are used to create a weighted sum of the input vectors, highlighting the most important parts.\\n4. **Feed-Forward Network:** The weighted sum is passed through a feed-forward network to produce the output.\\n\\n**Benefits:**\\n\\n* **Improved Accuracy:** Transformers have achieved state-of-the-art results on various natural language processing tasks.\\n* **Faster Training:** Transformers can be trained much faster than RNNs.\\n* **Versatility:** Transformers can be used for a wide range of tasks, including machine translation, text summarization, and question answering.'}\n"
          ]
        }
      ]
    },
    {
      "cell_type": "code",
      "source": [
        "for k, v in summary.items():\n",
        "  print(f'{k} :\\n {v}\\n')"
      ],
      "metadata": {
        "colab": {
          "base_uri": "https://localhost:8080/"
        },
        "id": "s6vnaBoliiF8",
        "outputId": "4f2d864c-5e7d-489a-e97e-fa0a8a0fc4e1"
      },
      "execution_count": null,
      "outputs": [
        {
          "output_type": "stream",
          "name": "stdout",
          "text": [
            "text :\n",
            " **Attention is all you need**\n",
            "\n",
            "**Key Concepts:**\n",
            "\n",
            "* **Self-Attention:** A mechanism that allows a model to focus on specific parts of its own input sequence.\n",
            "* **Transformer Architecture:** A neural network architecture that uses self-attention instead of recurrent neural networks (RNNs).\n",
            "\n",
            "**Benefits over RNNs:**\n",
            "\n",
            "* **Parallel Processing:** Transformers can process all input tokens simultaneously, unlike RNNs which process tokens sequentially.\n",
            "* **Long-Range Dependencies:** Transformers can capture long-range dependencies in the input sequence, which RNNs struggle with.\n",
            "* **Scalability:** Transformers can be scaled up to larger datasets and longer sequences than RNNs.\n",
            "\n",
            "**How it Works:**\n",
            "\n",
            "1. **Input Embedding:** The input sequence is converted into a series of vectors.\n",
            "2. **Self-Attention:** Each vector is compared to all other vectors in the sequence, creating a matrix of attention weights.\n",
            "3. **Weighted Sum:** The attention weights are used to create a weighted sum of the input vectors, highlighting the most important parts.\n",
            "4. **Feed-Forward Network:** The weighted sum is passed through a feed-forward network to produce the output.\n",
            "\n",
            "**Benefits:**\n",
            "\n",
            "* **Improved Accuracy:** Transformers have achieved state-of-the-art results on various natural language processing tasks.\n",
            "* **Faster Training:** Transformers can be trained much faster than RNNs.\n",
            "* **Versatility:** Transformers can be used for a wide range of tasks, including machine translation, text summarization, and question answering.\n",
            "\n"
          ]
        }
      ]
    },
    {
      "cell_type": "code",
      "source": [],
      "metadata": {
        "id": "BM8F85_yjX1g"
      },
      "execution_count": null,
      "outputs": []
    },
    {
      "cell_type": "markdown",
      "source": [
        "# Task 2: IT Support Query Resolution-\n",
        "* Translation\n",
        "* Solution\n",
        "* Support Email Generation"
      ],
      "metadata": {
        "id": "I2mSFdvSlBBZ"
      }
    },
    {
      "cell_type": "code",
      "source": [
        "it_support_queue = [\n",
        "    \"Não consigo sincronizar meus contatos com o telefone. Sempre recebo uma mensagem de falha.\",\n",
        "    \"Ho problemi a stampare i documenti da remoto. Il lavoro non viene inviato alla stampante di rete.\",\n",
        "    \"プリンターのトナーを交換しましたが、印刷品質が低下しています。サポートが必要です。\",\n",
        "    \"Я не могу войти в систему учета времени, появляется сообщение об ошибке. Мне нужна помощь.\",\n",
        "    \"Internet bağlantım çok yavaş ve bazen tamamen kesiliyor. Yardım eder misiniz?\",\n",
        "    \"Не могу установить обновление безопасности. Появляется код ошибки. Помогите, пожалуйста.\"\n",
        "]\n"
      ],
      "metadata": {
        "id": "xB2F8aKtlENY"
      },
      "execution_count": null,
      "outputs": []
    },
    {
      "cell_type": "code",
      "source": [
        "from langchain_google_genai import GoogleGenerativeAI\n",
        "from langchain.prompts import PromptTemplate\n",
        "from langchain.chains import LLMChain\n",
        "from langchain_core.output_parsers import PydanticOutputParser\n",
        "from pydantic import BaseModel, Field\n",
        "\n",
        "class it_support(BaseModel):\n",
        "  query: str = Field(description=\"translate the Question to english\")\n",
        "  solution: str = Field(description=\"Solution to the question\")\n",
        "  email: str = Field(description = \"Detailed email to the customer answering the query\")\n",
        "\n",
        "parser = PydanticOutputParser(pydantic_object=it_support)\n",
        "parser"
      ],
      "metadata": {
        "colab": {
          "base_uri": "https://localhost:8080/"
        },
        "id": "-_8i-3oblLm6",
        "outputId": "193209ce-8b6d-4a9e-d703-e98fd69145b7"
      },
      "execution_count": null,
      "outputs": [
        {
          "output_type": "execute_result",
          "data": {
            "text/plain": [
              "PydanticOutputParser(pydantic_object=<class '__main__.it_support'>)"
            ]
          },
          "metadata": {},
          "execution_count": 15
        }
      ]
    },
    {
      "cell_type": "code",
      "source": [
        "prompt_text1 = \"\"\"\n",
        "Analyse the given customer query and generate the response based on the instructions metioned\n",
        "below in the format instructions\n",
        "Also write a detailed email response in email field based on these\n",
        "-email should be addressed to Dear Customer and signed as server agent\n",
        "- thank them in the end\n",
        "-apologize if there is negative query\n",
        "-write the email in respected language as in the query\n",
        "\n",
        "Format Instructions:\n",
        "{format_instructions}\n",
        "\n",
        "Customer Query:\n",
        "{it_support_queue}\n",
        "\"\"\"\n",
        "prompt = PromptTemplate(\n",
        "    template=prompt_text1,\n",
        "    input_variables=['it_support_queue'],\n",
        "    partial_variables={\"format_instructions\": parser.get_format_instructions()}\n",
        ")\n",
        "prompt"
      ],
      "metadata": {
        "colab": {
          "base_uri": "https://localhost:8080/"
        },
        "id": "l68-xJHVlLiN",
        "outputId": "66a24df1-9286-4842-ad12-a7c5c220af24"
      },
      "execution_count": null,
      "outputs": [
        {
          "output_type": "execute_result",
          "data": {
            "text/plain": [
              "PromptTemplate(input_variables=['it_support_queue'], input_types={}, partial_variables={'format_instructions': 'The output should be formatted as a JSON instance that conforms to the JSON schema below.\\n\\nAs an example, for the schema {\"properties\": {\"foo\": {\"title\": \"Foo\", \"description\": \"a list of strings\", \"type\": \"array\", \"items\": {\"type\": \"string\"}}}, \"required\": [\"foo\"]}\\nthe object {\"foo\": [\"bar\", \"baz\"]} is a well-formatted instance of the schema. The object {\"properties\": {\"foo\": [\"bar\", \"baz\"]}} is not well-formatted.\\n\\nHere is the output schema:\\n```\\n{\"properties\": {\"query\": {\"description\": \"translate the Question to english\", \"title\": \"Query\", \"type\": \"string\"}, \"solution\": {\"description\": \"Solution to the question\", \"title\": \"Solution\", \"type\": \"string\"}, \"email\": {\"description\": \"Detailed email to the customer answering the query\", \"title\": \"Email\", \"type\": \"string\"}}, \"required\": [\"query\", \"solution\", \"email\"]}\\n```'}, template='\\nAnalyse the given customer query and generate the response based on the instructions metioned\\nbelow in the format instructions\\nAlso write a detailed email response in email field based on these\\n-email should be addressed to Dear Customer and signed as server agent\\n- thank them in the end\\n-apologize if there is negative query\\n-write the email in respected language as in the query\\n\\nFormat Instructions:\\n{format_instructions}\\n\\nCustomer Query:\\n{it_support_queue}\\n')"
            ]
          },
          "metadata": {},
          "execution_count": 16
        }
      ]
    },
    {
      "cell_type": "code",
      "source": [
        "#Format the IT_Support-queue\n",
        "queue = [{'it_support_queue':i} for i in it_support_queue ]\n",
        "queue"
      ],
      "metadata": {
        "colab": {
          "base_uri": "https://localhost:8080/"
        },
        "id": "l-4DJs40sYg7",
        "outputId": "c5ebd344-6755-47f2-8ee9-5d2c598467df"
      },
      "execution_count": null,
      "outputs": [
        {
          "output_type": "execute_result",
          "data": {
            "text/plain": [
              "[{'it_support_queue': 'Não consigo sincronizar meus contatos com o telefone. Sempre recebo uma mensagem de falha.'},\n",
              " {'it_support_queue': 'Ho problemi a stampare i documenti da remoto. Il lavoro non viene inviato alla stampante di rete.'},\n",
              " {'it_support_queue': 'プリンターのトナーを交換しましたが、印刷品質が低下しています。サポートが必要です。'},\n",
              " {'it_support_queue': 'Я не могу войти в систему учета времени, появляется сообщение об ошибке. Мне нужна помощь.'},\n",
              " {'it_support_queue': 'Internet bağlantım çok yavaş ve bazen tamamen kesiliyor. Yardım eder misiniz?'},\n",
              " {'it_support_queue': 'Не могу установить обновление безопасности. Появляется код ошибки. Помогите, пожалуйста.'}]"
            ]
          },
          "metadata": {},
          "execution_count": 22
        }
      ]
    },
    {
      "cell_type": "code",
      "source": [
        "chain = LLMChain(llm=llm, prompt=prompt)\n",
        "response = chain.map().invoke(queue)\n",
        "response[0]"
      ],
      "metadata": {
        "colab": {
          "base_uri": "https://localhost:8080/"
        },
        "id": "ji9PHEQAlLgh",
        "outputId": "0ead3a7c-c737-40dc-b1e2-dce316e7fe25"
      },
      "execution_count": null,
      "outputs": [
        {
          "output_type": "execute_result",
          "data": {
            "text/plain": [
              "{'it_support_queue': 'Não consigo sincronizar meus contatos com o telefone. Sempre recebo uma mensagem de falha.',\n",
              " 'text': '```\\n{\\n  \"query\": \"I am unable to sync my contacts to my phone. I keep getting a failed message.\",\\n  \"solution\": \"**Troubleshooting Contact Syncing Issues**\\\\n\\\\n**1. Check your internet connection.** Make sure you have a strong and stable internet connection. A weak or intermittent connection can cause syncing issues.\\\\n\\\\n**2. Restart your phone and the Google Contacts app.** This can help to clear any temporary glitches that may be preventing syncing.\\\\n\\\\n**3. Check your Google Account settings.** Make sure that syncing is enabled for your Google Account. You can check this by going to the Google Account settings page and selecting the \\\\\"Data & personalization\\\\\" tab. Under \\\\\"Activity controls,\\\\\" make sure that the \\\\\"Contacts\\\\\" toggle is turned on.\\\\n\\\\n**4. Check your phone\\'s settings.** Make sure that syncing is enabled for the Google Contacts app. You can check this by going to the phone\\'s settings, selecting \\\\\"Accounts,\\\\\" and then selecting the Google account that you want to sync contacts with. Under \\\\\"Account sync,\\\\\" make sure that the \\\\\"Contacts\\\\\" toggle is turned on.\\\\n\\\\n**5. Clear the cache and data for the Google Contacts app.** This can help to remove any corrupted data that may be causing syncing issues. To do this, go to the phone\\'s settings, select \\\\\"Apps & notifications,\\\\\" and then select the Google Contacts app. Tap on \\\\\"Storage & cache,\\\\\" and then tap on \\\\\"Clear cache\\\\\" and \\\\\"Clear data.\\\\\"\\\\n\\\\n**6. Uninstall and reinstall the Google Contacts app.** This can help to resolve any issues with the app itself. To do this, go to the phone\\'s settings, select \\\\\"Apps & notifications,\\\\\" and then select the Google Contacts app. Tap on \\\\\"Uninstall,\\\\\" and then tap on \\\\\"OK.\\\\\" Once the app is uninstalled, restart your phone and then reinstall the app from the Google Play Store.\\\\n\\\\n**If you are still having trouble syncing your contacts, you can contact Google support for further assistance.**\",\\n  \"email\": \"Dear Customer,\\\\n\\\\nThank you for reaching out to us regarding the issue you are experiencing with syncing your contacts to your phone.\\\\n\\\\nWe understand that this can be frustrating, and we apologize for any inconvenience it may have caused.\\\\n\\\\nWe have compiled a list of troubleshooting steps that may help you resolve this issue:\\\\n\\\\n**1. Check your internet connection.**\\\\n**2. Restart your phone and the Google Contacts app.**\\\\n**3. Check your Google Account settings.**\\\\n**4. Check your phone\\'s settings.**\\\\n**5. Clear the cache and data for the Google Contacts app.**\\\\n**6. Uninstall and reinstall the Google Contacts app.**\\\\n\\\\nIf you have tried all of these steps and are still unable to sync your contacts, please contact Google support for further assistance.\\\\n\\\\nWe appreciate your patience and understanding.\\\\n\\\\nThank you,\\\\nServer Agent\"\\n}\\n```'}"
            ]
          },
          "metadata": {},
          "execution_count": 46
        }
      ]
    },
    {
      "cell_type": "code",
      "source": [
        "for i in range(len(response)):\n",
        "  for k, v in response[i].items():\n",
        "    print(f'{k} : \\n{v}\\n')\n",
        "    print('**************')\n",
        "    print('\\n')"
      ],
      "metadata": {
        "colab": {
          "base_uri": "https://localhost:8080/"
        },
        "id": "PWsSO_WblLap",
        "outputId": "0824b2fe-7d38-42c5-d370-b05e6a1bfd38"
      },
      "execution_count": null,
      "outputs": [
        {
          "output_type": "stream",
          "name": "stdout",
          "text": [
            "it_support_queue : \n",
            "Não consigo sincronizar meus contatos com o telefone. Sempre recebo uma mensagem de falha.\n",
            "\n",
            "**************\n",
            "\n",
            "\n",
            "text : \n",
            "```\n",
            "{\n",
            "  \"query\": \"I am unable to sync my contacts to my phone. I keep getting a failed message.\",\n",
            "  \"solution\": \"**Troubleshooting Contact Syncing Issues**\\n\\n**1. Check your internet connection.** Make sure you have a strong and stable internet connection. A weak or intermittent connection can cause syncing issues.\\n\\n**2. Restart your phone and the Google Contacts app.** This can help to clear any temporary glitches that may be preventing syncing.\\n\\n**3. Check your Google Account settings.** Make sure that syncing is enabled for your Google Account. You can check this by going to the Google Account settings page and selecting the \\\"Data & personalization\\\" tab. Under \\\"Activity controls,\\\" make sure that the \\\"Contacts\\\" toggle is turned on.\\n\\n**4. Check your phone's settings.** Make sure that syncing is enabled for the Google Contacts app. You can check this by going to the phone's settings, selecting \\\"Accounts,\\\" and then selecting the Google Account you want to sync with. Under \\\"Account sync,\\\" make sure that the \\\"Contacts\\\" toggle is turned on.\\n\\n**5. Clear the cache and data for the Google Contacts app.** This can help to remove any corrupted data that may be causing syncing issues. To do this, go to the phone's settings, select \\\"Apps & notifications,\\\" and then select the Google Contacts app. Tap on \\\"Storage & cache,\\\" and then tap on \\\"Clear cache\\\" and \\\"Clear data.\\\"\\n\\n**6. Uninstall and reinstall the Google Contacts app.** This can help to resolve any issues with the app itself. To do this, go to the phone's settings, select \\\"Apps & notifications,\\\" and then select the Google Contacts app. Tap on \\\"Uninstall,\\\" and then tap on \\\"OK.\\\" Once the app is uninstalled, restart your phone and then reinstall the app from the Google Play Store.\\n\\n**If you are still having trouble syncing your contacts, you can contact Google support for further assistance.**\",\n",
            "  \"email\": \"Dear Customer,\\n\\nThank you for reaching out to us regarding the issue you are experiencing with syncing your contacts to your phone.\\n\\nWe understand that this can be frustrating, and we apologize for any inconvenience it may have caused.\\n\\nWe have compiled a list of troubleshooting steps that may help you resolve this issue:\\n\\n**1. Check your internet connection.**\\n**2. Restart your phone and the Google Contacts app.**\\n**3. Check your Google Account settings.**\\n**4. Check your phone's settings.**\\n**5. Clear the cache and data for the Google Contacts app.**\\n**6. Uninstall and reinstall the Google Contacts app.**\\n\\nIf you have tried all of these steps and are still unable to sync your contacts, please contact Google support for further assistance.\\n\\nWe appreciate your patience and understanding.\\n\\nThank you,\\nServer Agent\"\n",
            "}\n",
            "```\n",
            "\n",
            "**************\n",
            "\n",
            "\n",
            "it_support_queue : \n",
            "Ho problemi a stampare i documenti da remoto. Il lavoro non viene inviato alla stampante di rete.\n",
            "\n",
            "**************\n",
            "\n",
            "\n",
            "text : \n",
            "```\n",
            "{\n",
            "  \"query\": \"I am having trouble printing documents remotely. The job is not being sent to the network printer.\",\n",
            "  \"solution\": \"**Troubleshooting Remote Printing Issues**\\n\\n**1. Check Network Connectivity**\\n- Ensure that both the computer and printer are connected to the same Wi-Fi network or wired network.\\n- Verify that the network is functioning properly by accessing the internet or other network resources.\\n\\n**2. Verify Printer Settings**\\n- Make sure the printer is turned on and online.\\n- Check if the printer is set as the default printer on your computer.\\n- Ensure that the printer drivers are up-to-date.\\n\\n**3. Firewall and Antivirus Software**\\n- Temporarily disable any firewall or antivirus software on your computer.\\n- Check if the printer's IP address or port is being blocked by the firewall.\\n\\n**4. Printer Spooler Service**\\n- Restart the Printer Spooler service on your computer.\\n- Go to Control Panel > Administrative Tools > Services.\\n- Find the Print Spooler service, right-click on it, and select Restart.\\n\\n**5. Network Printer Configuration**\\n- Check if the network printer is properly configured on your computer.\\n- Go to Control Panel > Devices and Printers.\\n- Right-click on the network printer and select Printer Properties.\\n- Verify the printer's IP address, port, and other settings.\\n\\n**6. Printer Driver Reinstallation**\\n- Uninstall and reinstall the printer drivers on your computer.\\n- Download the latest drivers from the printer manufacturer's website.\\n\\n**7. Contact Printer Manufacturer**\\n- If the above steps do not resolve the issue, contact the printer manufacturer for further assistance.\",\n",
            "  \"email\": \"Dear Customer,\\n\\nThank you for reaching out to us regarding the issue you are experiencing with remote printing.\\n\\nWe understand the inconvenience this may cause, and we apologize for any frustration it has brought.\\n\\nWe have compiled a list of troubleshooting steps that may help resolve the issue:\\n\\n[Insert solution here]\\n\\nIf you have tried the above steps and are still unable to print remotely, please do not hesitate to contact us again. We will be happy to assist you further.\\n\\nThank you for your patience and understanding.\\n\\nSincerely,\\nServer Agent\"\n",
            "}\n",
            "```\n",
            "\n",
            "**************\n",
            "\n",
            "\n",
            "it_support_queue : \n",
            "プリンターのトナーを交換しましたが、印刷品質が低下しています。サポートが必要です。\n",
            "\n",
            "**************\n",
            "\n",
            "\n",
            "text : \n",
            "```\n",
            "{\n",
            "  \"query\": \"I have replaced the toner in my printer, but the print quality is poor. I need support.\",\n",
            "  \"solution\": \"**Troubleshooting steps for poor print quality after toner replacement:**\\n\\n1. **Check if the toner cartridge is properly installed.** Remove and reinsert the toner cartridge to ensure it is seated correctly.\\n\\n2. **Clean the printer's fuser unit.** The fuser unit is responsible for fusing the toner to the paper. If it is dirty, it can cause print quality issues.\\n\\n3. **Check the paper quality.** Make sure you are using high-quality paper that is compatible with your printer.\\n\\n4. **Update the printer driver.** Outdated printer drivers can cause compatibility issues and print quality problems.\\n\\n5. **Contact the printer manufacturer.** If you have tried all of the above steps and the print quality is still poor, you may need to contact the printer manufacturer for further assistance.\",\n",
            "  \"email\": \"Dear Customer,\\n\\nThank you for reaching out to us regarding the poor print quality you are experiencing after replacing the toner in your printer.\\n\\nWe understand that this can be frustrating, and we apologize for any inconvenience it may have caused.\\n\\nWe have compiled a list of troubleshooting steps that may help resolve the issue:\\n\\n1. **Check if the toner cartridge is properly installed.** Remove and reinsert the toner cartridge to ensure it is seated correctly.\\n\\n2. **Clean the printer's fuser unit.** The fuser unit is responsible for fusing the toner to the paper. If it is dirty, it can cause print quality issues.\\n\\n3. **Check the paper quality.** Make sure you are using high-quality paper that is compatible with your printer.\\n\\n4. **Update the printer driver.** Outdated printer drivers can cause compatibility issues and print quality problems.\\n\\n5. **Contact the printer manufacturer.** If you have tried all of the above steps and the print quality is still poor, you may need to contact the printer manufacturer for further assistance.\\n\\nWe hope these steps help resolve the issue. If you have any further questions or concerns, please do not hesitate to contact us.\\n\\nThank you for your patience and understanding.\\n\\nSincerely,\\nServer Agent\"\n",
            "}\n",
            "```\n",
            "\n",
            "**************\n",
            "\n",
            "\n",
            "it_support_queue : \n",
            "Я не могу войти в систему учета времени, появляется сообщение об ошибке. Мне нужна помощь.\n",
            "\n",
            "**************\n",
            "\n",
            "\n",
            "text : \n",
            "```\n",
            "{\n",
            "  \"query\": \"I am unable to login to the timekeeping system, I am getting an error message. I need help.\",\n",
            "  \"solution\": \"I apologize for the inconvenience you are experiencing. Please try the following steps to resolve the issue:\\n\\n1. Ensure that you are using the correct login credentials.\\n2. Clear your browser's cache and cookies.\\n3. Try accessing the system from a different browser or device.\\n\\nIf you are still unable to log in, please contact our support team for further assistance.\",\n",
            "  \"email\": \"Dear Customer,\\n\\nThank you for reaching out to us regarding the issue you are experiencing with logging into the timekeeping system.\\n\\nI understand that you are receiving an error message when attempting to log in. I apologize for the inconvenience this has caused.\\n\\nTo resolve this issue, please try the following steps:\\n\\n1. Ensure that you are using the correct login credentials.\\n2. Clear your browser's cache and cookies.\\n3. Try accessing the system from a different browser or device.\\n\\nIf you are still unable to log in after trying these steps, please contact our support team at [support email address] for further assistance.\\n\\nWe appreciate your patience and understanding in this matter.\\n\\nThank you,\\nServer Agent\"\n",
            "}\n",
            "```\n",
            "\n",
            "**************\n",
            "\n",
            "\n",
            "it_support_queue : \n",
            "Internet bağlantım çok yavaş ve bazen tamamen kesiliyor. Yardım eder misiniz?\n",
            "\n",
            "**************\n",
            "\n",
            "\n",
            "text : \n",
            "```\n",
            "{\n",
            "  \"query\": \"My internet connection is very slow and sometimes it disconnects completely. Can you help me?\",\n",
            "  \"solution\": \"I'm sorry to hear that you're experiencing problems with your internet connection. I'd be happy to help you troubleshoot the issue.\\n\\nHere are a few things you can try:\\n\\n1. Check your modem and router to make sure they are both turned on and connected properly.\\n2. Restart your modem and router by unplugging them for 30 seconds and then plugging them back in.\\n3. Check the cables that connect your modem and router to the wall and to your computer. Make sure they are all securely connected.\\n4. If you're still having problems, try connecting your computer directly to the modem using an Ethernet cable. This will help you determine if the problem is with your router or with your internet connection.\\n5. If you're still having problems, please contact your internet service provider for assistance.\",\n",
            "  \"email\": \"Dear Customer,\\n\\nThank you for reaching out to us regarding your internet connection issues.\\n\\nI understand that you're experiencing slow speeds and occasional disconnections. I apologize for the inconvenience this is causing you.\\n\\nI've included some troubleshooting steps below that may help you resolve the issue:\\n\\n1. Check your modem and router to make sure they are both turned on and connected properly.\\n2. Restart your modem and router by unplugging them for 30 seconds and then plugging them back in.\\n3. Check the cables that connect your modem and router to the wall and to your computer. Make sure they are all securely connected.\\n4. If you're still having problems, try connecting your computer directly to the modem using an Ethernet cable. This will help you determine if the problem is with your router or with your internet connection.\\n5. If you're still having problems, please contact your internet service provider for assistance.\\n\\nI hope these steps help you resolve the issue. If you have any further questions, please don't hesitate to contact us.\\n\\nThank you for your patience and understanding.\\n\\nSincerely,\\nServer Agent\"\n",
            "}\n",
            "```\n",
            "\n",
            "**************\n",
            "\n",
            "\n",
            "it_support_queue : \n",
            "Не могу установить обновление безопасности. Появляется код ошибки. Помогите, пожалуйста.\n",
            "\n",
            "**************\n",
            "\n",
            "\n",
            "text : \n",
            "```\n",
            "{\n",
            "  \"query\": \"I am unable to install the security update. I am getting an error code. Please help.\",\n",
            "  \"solution\": \"**Troubleshooting Security Update Installation Errors**\\n\\n**1. Check for System Requirements:**\\nEnsure that your system meets the minimum requirements for the security update.\\n\\n**2. Restart Your Device:**\\nA simple restart can often resolve temporary issues that may be preventing the update from installing.\\n\\n**3. Run the Windows Update Troubleshooter:**\\nThis built-in tool can diagnose and fix common update problems. Go to Settings > Update & Security > Troubleshoot > Windows Update.\\n\\n**4. Check for Antivirus or Firewall Interference:**\\nDisable any antivirus or firewall software temporarily to see if they are blocking the update.\\n\\n**5. Clear the Software Distribution Folder:**\\nDelete the contents of the Software Distribution folder, which stores temporary update files. Go to File Explorer and navigate to C:\\\\Windows\\\\SoftwareDistribution\\\\Download.\\n\\n**6. Reset Windows Update Components:**\\nUse the following commands in an elevated Command Prompt:\\n\\n```\\nnet stop wuauserv\\nnet stop cryptSvc\\nnet stop bits\\nnet stop msiserver\\nren C:\\\\Windows\\\\SoftwareDistribution SoftwareDistribution.old\\nren C:\\\\Windows\\\\System32\\\\catroot2 catroot2.old\\nnet start wuauserv\\nnet start cryptSvc\\nnet start bits\\nnet start msiserver\\n```\\n\\n**7. Manually Download and Install the Update:**\\nVisit the Microsoft Update Catalog website and manually download the security update for your system.\\n\\n**8. Contact Microsoft Support:**\\nIf none of the above steps resolve the issue, contact Microsoft Support for further assistance.\",\n",
            "  \"email\": \"Dear Customer,\\n\\nThank you for reaching out regarding the issue you are experiencing with installing the security update.\\n\\nI understand that you are receiving an error code. To assist you, I have provided a detailed troubleshooting guide below:\\n\\n[Insert troubleshooting steps from the solution]\\n\\nIf you continue to encounter difficulties after following these steps, please do not hesitate to contact us again. We are here to support you.\\n\\nThank you for your patience and understanding.\\n\\nSincerely,\\nServer Agent\"\n",
            "}\n",
            "```\n",
            "\n",
            "**************\n",
            "\n",
            "\n"
          ]
        }
      ]
    }
  ]
}
